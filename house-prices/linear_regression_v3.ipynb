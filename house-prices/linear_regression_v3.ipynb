{
 "cells": [
  {
   "cell_type": "code",
   "execution_count": 1,
   "metadata": {},
   "outputs": [],
   "source": [
    "import pandas as pd\n",
    "\n",
    "from sklearn.preprocessing import LabelEncoder, OneHotEncoder\n",
    "from sklearn.linear_model import LinearRegression\n",
    "\n",
    "from common_libraries import dataset, models"
   ]
  },
  {
   "cell_type": "code",
   "execution_count": 2,
   "metadata": {},
   "outputs": [],
   "source": [
    "def get_submission_file(model, data, y_col, id_col, pred_cols, output_file):\n",
    "    pred = data.copy(deep=True)\n",
    "    pred[y_col] = model.predict(pred[pred_cols])\n",
    "    pred = pred[[id_col, y_col]]\n",
    "    pred.to_csv(output_file, index=False)"
   ]
  },
  {
   "cell_type": "code",
   "execution_count": 3,
   "metadata": {},
   "outputs": [],
   "source": [
    "train_data = pd.read_csv(\"dataset/train.csv\")\n",
    "test_data = pd.read_csv(\"dataset/test.csv\")"
   ]
  },
  {
   "cell_type": "code",
   "execution_count": 4,
   "metadata": {},
   "outputs": [],
   "source": [
    "y_col = \"SalePrice\"\n",
    "id_col = \"Id\"\n",
    "pre_features = [\"LotArea\", \"Neighborhood\"]\n",
    "train_split = .7\n",
    "post_features = []"
   ]
  },
  {
   "cell_type": "code",
   "execution_count": 5,
   "metadata": {},
   "outputs": [
    {
     "name": "stdout",
     "output_type": "stream",
     "text": [
      "['Sawyer', 'Veenker', 'NWAmes', 'NridgHt', 'CollgCr', 'IDOTRR', 'ClearCr', 'Edwards', 'SawyerW', 'Blmngtn', 'LotArea', 'NPkVill', 'Mitchel', 'Somerst', 'Blueste', 'BrDale', 'OldTown', 'Crawfor', 'StoneBr', 'Timber', 'BrkSide', 'NoRidge', 'Gilbert', 'MeadowV', 'SWISU', 'NAmes']\n"
     ]
    },
    {
     "data": {
      "text/html": [
       "<div>\n",
       "<style scoped>\n",
       "    .dataframe tbody tr th:only-of-type {\n",
       "        vertical-align: middle;\n",
       "    }\n",
       "\n",
       "    .dataframe tbody tr th {\n",
       "        vertical-align: top;\n",
       "    }\n",
       "\n",
       "    .dataframe thead th {\n",
       "        text-align: right;\n",
       "    }\n",
       "</style>\n",
       "<table border=\"1\" class=\"dataframe\">\n",
       "  <thead>\n",
       "    <tr style=\"text-align: right;\">\n",
       "      <th></th>\n",
       "      <th>Id</th>\n",
       "      <th>LotArea</th>\n",
       "      <th>SalePrice</th>\n",
       "      <th>Blmngtn</th>\n",
       "      <th>Blueste</th>\n",
       "      <th>BrDale</th>\n",
       "      <th>BrkSide</th>\n",
       "      <th>ClearCr</th>\n",
       "      <th>CollgCr</th>\n",
       "      <th>Crawfor</th>\n",
       "      <th>...</th>\n",
       "      <th>NoRidge</th>\n",
       "      <th>NridgHt</th>\n",
       "      <th>OldTown</th>\n",
       "      <th>SWISU</th>\n",
       "      <th>Sawyer</th>\n",
       "      <th>SawyerW</th>\n",
       "      <th>Somerst</th>\n",
       "      <th>StoneBr</th>\n",
       "      <th>Timber</th>\n",
       "      <th>Veenker</th>\n",
       "    </tr>\n",
       "  </thead>\n",
       "  <tbody>\n",
       "    <tr>\n",
       "      <th>0</th>\n",
       "      <td>1</td>\n",
       "      <td>8450</td>\n",
       "      <td>208500</td>\n",
       "      <td>0.0</td>\n",
       "      <td>0.0</td>\n",
       "      <td>0.0</td>\n",
       "      <td>0.0</td>\n",
       "      <td>0.0</td>\n",
       "      <td>1.0</td>\n",
       "      <td>0.0</td>\n",
       "      <td>...</td>\n",
       "      <td>0.0</td>\n",
       "      <td>0.0</td>\n",
       "      <td>0.0</td>\n",
       "      <td>0.0</td>\n",
       "      <td>0.0</td>\n",
       "      <td>0.0</td>\n",
       "      <td>0.0</td>\n",
       "      <td>0.0</td>\n",
       "      <td>0.0</td>\n",
       "      <td>0.0</td>\n",
       "    </tr>\n",
       "    <tr>\n",
       "      <th>1</th>\n",
       "      <td>2</td>\n",
       "      <td>9600</td>\n",
       "      <td>181500</td>\n",
       "      <td>0.0</td>\n",
       "      <td>0.0</td>\n",
       "      <td>0.0</td>\n",
       "      <td>0.0</td>\n",
       "      <td>0.0</td>\n",
       "      <td>0.0</td>\n",
       "      <td>0.0</td>\n",
       "      <td>...</td>\n",
       "      <td>0.0</td>\n",
       "      <td>0.0</td>\n",
       "      <td>0.0</td>\n",
       "      <td>0.0</td>\n",
       "      <td>0.0</td>\n",
       "      <td>0.0</td>\n",
       "      <td>0.0</td>\n",
       "      <td>0.0</td>\n",
       "      <td>0.0</td>\n",
       "      <td>1.0</td>\n",
       "    </tr>\n",
       "  </tbody>\n",
       "</table>\n",
       "<p>2 rows × 28 columns</p>\n",
       "</div>"
      ],
      "text/plain": [
       "   Id  LotArea  SalePrice  Blmngtn  Blueste  BrDale  BrkSide  ClearCr  \\\n",
       "0   1     8450     208500      0.0      0.0     0.0      0.0      0.0   \n",
       "1   2     9600     181500      0.0      0.0     0.0      0.0      0.0   \n",
       "\n",
       "   CollgCr  Crawfor  ...  NoRidge  NridgHt  OldTown  SWISU  Sawyer  SawyerW  \\\n",
       "0      1.0      0.0  ...      0.0      0.0      0.0    0.0     0.0      0.0   \n",
       "1      0.0      0.0  ...      0.0      0.0      0.0    0.0     0.0      0.0   \n",
       "\n",
       "   Somerst  StoneBr  Timber  Veenker  \n",
       "0      0.0      0.0     0.0      0.0  \n",
       "1      0.0      0.0     0.0      1.0  \n",
       "\n",
       "[2 rows x 28 columns]"
      ]
     },
     "execution_count": 5,
     "metadata": {},
     "output_type": "execute_result"
    }
   ],
   "source": [
    "trainset = train_data.copy(deep=True)[[id_col] + pre_features + [y_col]]\n",
    "neighborhood_encoder = dataset.fit_categorical_encoder(trainset, \"Neighborhood\")\n",
    "trainset = dataset.transform_with_fitted_encoder(trainset, \"Neighborhood\", neighborhood_encoder)\n",
    "post_features = list(set(trainset.columns) - set([id_col, y_col]))\n",
    "print(post_features)\n",
    "trainset.head(2)"
   ]
  },
  {
   "cell_type": "markdown",
   "metadata": {},
   "source": [
    "### Dealing with features\n",
    "\n",
    "- Fill missing values with some value depending on the feature\n",
    "- Transform data that can have a numerical representation (such as Low, Medium and High_\n",
    "- Transform categorical data into arrays (Street: Grvl -> `[0, 1]` -> 0 on Pave and 1 on Gravel)"
   ]
  },
  {
   "cell_type": "code",
   "execution_count": 16,
   "metadata": {},
   "outputs": [
    {
     "name": "stdout",
     "output_type": "stream",
     "text": [
      "RMSE - using log: 4.445460097286023\n"
     ]
    }
   ],
   "source": [
    "features = post_features\n",
    "\n",
    "train, test = dataset.random_split_on_data(trainset, train_split)\n",
    "train_x, train_y = dataset.split_dataset_supervised(train, features, y_col)\n",
    "test_x, test_y = dataset.split_dataset_supervised(test, features, y_col)\n",
    "\n",
    "lr_model = LinearRegression().fit(train_x, train_y)\n",
    "rmse = models.calculate_rmse_log(lr_model, test_x, test_y)\n",
    "\n",
    "print(f\"RMSE - using log: {rmse}\")"
   ]
  },
  {
   "cell_type": "code",
   "execution_count": 13,
   "metadata": {},
   "outputs": [],
   "source": [
    "models.save(lr_model, \"models/linear_regression_neighborhood.scikit_model\")"
   ]
  },
  {
   "cell_type": "code",
   "execution_count": 14,
   "metadata": {},
   "outputs": [
    {
     "data": {
      "text/html": [
       "<div>\n",
       "<style scoped>\n",
       "    .dataframe tbody tr th:only-of-type {\n",
       "        vertical-align: middle;\n",
       "    }\n",
       "\n",
       "    .dataframe tbody tr th {\n",
       "        vertical-align: top;\n",
       "    }\n",
       "\n",
       "    .dataframe thead th {\n",
       "        text-align: right;\n",
       "    }\n",
       "</style>\n",
       "<table border=\"1\" class=\"dataframe\">\n",
       "  <thead>\n",
       "    <tr style=\"text-align: right;\">\n",
       "      <th></th>\n",
       "      <th>Id</th>\n",
       "      <th>LotArea</th>\n",
       "      <th>Blmngtn</th>\n",
       "      <th>Blueste</th>\n",
       "      <th>BrDale</th>\n",
       "      <th>BrkSide</th>\n",
       "      <th>ClearCr</th>\n",
       "      <th>CollgCr</th>\n",
       "      <th>Crawfor</th>\n",
       "      <th>Edwards</th>\n",
       "      <th>...</th>\n",
       "      <th>NoRidge</th>\n",
       "      <th>NridgHt</th>\n",
       "      <th>OldTown</th>\n",
       "      <th>SWISU</th>\n",
       "      <th>Sawyer</th>\n",
       "      <th>SawyerW</th>\n",
       "      <th>Somerst</th>\n",
       "      <th>StoneBr</th>\n",
       "      <th>Timber</th>\n",
       "      <th>Veenker</th>\n",
       "    </tr>\n",
       "  </thead>\n",
       "  <tbody>\n",
       "    <tr>\n",
       "      <th>0</th>\n",
       "      <td>1461</td>\n",
       "      <td>11622</td>\n",
       "      <td>0.0</td>\n",
       "      <td>0.0</td>\n",
       "      <td>0.0</td>\n",
       "      <td>0.0</td>\n",
       "      <td>0.0</td>\n",
       "      <td>0.0</td>\n",
       "      <td>0.0</td>\n",
       "      <td>0.0</td>\n",
       "      <td>...</td>\n",
       "      <td>0.0</td>\n",
       "      <td>0.0</td>\n",
       "      <td>0.0</td>\n",
       "      <td>0.0</td>\n",
       "      <td>0.0</td>\n",
       "      <td>0.0</td>\n",
       "      <td>0.0</td>\n",
       "      <td>0.0</td>\n",
       "      <td>0.0</td>\n",
       "      <td>0.0</td>\n",
       "    </tr>\n",
       "    <tr>\n",
       "      <th>1</th>\n",
       "      <td>1462</td>\n",
       "      <td>14267</td>\n",
       "      <td>0.0</td>\n",
       "      <td>0.0</td>\n",
       "      <td>0.0</td>\n",
       "      <td>0.0</td>\n",
       "      <td>0.0</td>\n",
       "      <td>0.0</td>\n",
       "      <td>0.0</td>\n",
       "      <td>0.0</td>\n",
       "      <td>...</td>\n",
       "      <td>0.0</td>\n",
       "      <td>0.0</td>\n",
       "      <td>0.0</td>\n",
       "      <td>0.0</td>\n",
       "      <td>0.0</td>\n",
       "      <td>0.0</td>\n",
       "      <td>0.0</td>\n",
       "      <td>0.0</td>\n",
       "      <td>0.0</td>\n",
       "      <td>0.0</td>\n",
       "    </tr>\n",
       "  </tbody>\n",
       "</table>\n",
       "<p>2 rows × 27 columns</p>\n",
       "</div>"
      ],
      "text/plain": [
       "     Id  LotArea  Blmngtn  Blueste  BrDale  BrkSide  ClearCr  CollgCr  \\\n",
       "0  1461    11622      0.0      0.0     0.0      0.0      0.0      0.0   \n",
       "1  1462    14267      0.0      0.0     0.0      0.0      0.0      0.0   \n",
       "\n",
       "   Crawfor  Edwards  ...  NoRidge  NridgHt  OldTown  SWISU  Sawyer  SawyerW  \\\n",
       "0      0.0      0.0  ...      0.0      0.0      0.0    0.0     0.0      0.0   \n",
       "1      0.0      0.0  ...      0.0      0.0      0.0    0.0     0.0      0.0   \n",
       "\n",
       "   Somerst  StoneBr  Timber  Veenker  \n",
       "0      0.0      0.0     0.0      0.0  \n",
       "1      0.0      0.0     0.0      0.0  \n",
       "\n",
       "[2 rows x 27 columns]"
      ]
     },
     "execution_count": 14,
     "metadata": {},
     "output_type": "execute_result"
    }
   ],
   "source": [
    "# I must use the encoder created using the training data, but I'll allow myself this shortcut for the moment\n",
    "testset = test_data.copy(deep=True)[[id_col] + pre_features]\n",
    "testset = dataset.transform_with_fitted_encoder(testset, \"Neighborhood\", neighborhood_encoder)\n",
    "testset.head(2)"
   ]
  },
  {
   "cell_type": "code",
   "execution_count": 15,
   "metadata": {},
   "outputs": [],
   "source": [
    "get_submission_file(lr_model, testset, y_col, id_col, features, \"dataset/linear_regression_neighborhood.csv\")"
   ]
  },
  {
   "cell_type": "code",
   "execution_count": null,
   "metadata": {},
   "outputs": [],
   "source": []
  }
 ],
 "metadata": {
  "kernelspec": {
   "display_name": "Python 3",
   "language": "python",
   "name": "python3"
  },
  "language_info": {
   "codemirror_mode": {
    "name": "ipython",
    "version": 3
   },
   "file_extension": ".py",
   "mimetype": "text/x-python",
   "name": "python",
   "nbconvert_exporter": "python",
   "pygments_lexer": "ipython3",
   "version": "3.7.9"
  }
 },
 "nbformat": 4,
 "nbformat_minor": 4
}
