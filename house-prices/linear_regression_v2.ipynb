{
 "cells": [
  {
   "cell_type": "code",
   "execution_count": 1,
   "metadata": {},
   "outputs": [],
   "source": [
    "from typing import List, Tuple"
   ]
  },
  {
   "cell_type": "code",
   "execution_count": 2,
   "metadata": {},
   "outputs": [],
   "source": [
    "import math\n",
    "import numpy as np\n",
    "import pandas as pd\n",
    "import seaborn as sns\n",
    "import matplotlib.pyplot as plt\n",
    "import pickle\n",
    "\n",
    "from sklearn.preprocessing import LabelEncoder, OneHotEncoder\n",
    "from sklearn.linear_model import LinearRegression\n",
    "from sklearn.metrics import mean_squared_error"
   ]
  },
  {
   "cell_type": "code",
   "execution_count": 3,
   "metadata": {},
   "outputs": [],
   "source": [
    "train_data = pd.read_csv(\"dataset/train.csv\")\n",
    "test_data = pd.read_csv(\"dataset/test.csv\")\n",
    "y_col = \"SalePrice\"\n",
    "id_col = \"Id\""
   ]
  },
  {
   "cell_type": "code",
   "execution_count": 4,
   "metadata": {},
   "outputs": [],
   "source": [
    "def random_split_on_data(data: pd.DataFrame, train_size: float = 0.8) -> Tuple[pd.DataFrame, pd.DataFrame]:\n",
    "    \"\"\"\n",
    "    Split the data passed into two chunks using `train_size` as proportion\n",
    "    \"\"\"\n",
    "    split = np.random.rand(len(data)) < train_size\n",
    "    train = data[split]\n",
    "    test = data[~split]\n",
    "    return train, test"
   ]
  },
  {
   "cell_type": "code",
   "execution_count": 5,
   "metadata": {},
   "outputs": [],
   "source": [
    "def split_dataset_supervised(data: pd.DataFrame, train_cols: List[str], y_col: str) -> Tuple[pd.DataFrame, pd.DataFrame]:\n",
    "    \"\"\"\n",
    "    Split the dataset into X (to calculate the output) and Y (to calculate the error)\n",
    "    \"\"\"\n",
    "    temp = data.copy(deep=True)\n",
    "    X = temp[train_cols]\n",
    "    Y = temp[[y_col]]\n",
    "    return X, Y"
   ]
  },
  {
   "cell_type": "code",
   "execution_count": 6,
   "metadata": {},
   "outputs": [],
   "source": [
    "def calculate_rmse(lr_model: LinearRegression, X: pd.DataFrame, Y: pd.DataFrame) -> float:\n",
    "    \"\"\"\n",
    "    Calculates RMSE of calculated preditions\n",
    "    \"\"\"\n",
    "    Y_pred = lr_model.predict(X)\n",
    "    return mean_squared_error(Y, Y_pred, squared=False)"
   ]
  },
  {
   "cell_type": "code",
   "execution_count": 7,
   "metadata": {},
   "outputs": [],
   "source": [
    "def save_model(model, model_name):\n",
    "    with open(model_name, \"wb\") as mw:\n",
    "        pickle.dump(model, mw)"
   ]
  },
  {
   "cell_type": "code",
   "execution_count": 8,
   "metadata": {},
   "outputs": [],
   "source": [
    "def get_submission_file(model, data, y_col, id_col, pred_cols, output_file):\n",
    "    pred = data.copy(deep=True)\n",
    "    pred[y_col] = model.predict(pred[pred_cols])\n",
    "    pred = pred[[id_col, y_col]]\n",
    "    pred.to_csv(output_file, index=False)"
   ]
  },
  {
   "cell_type": "markdown",
   "metadata": {},
   "source": [
    "## Training with more numerical features"
   ]
  },
  {
   "cell_type": "code",
   "execution_count": 28,
   "metadata": {},
   "outputs": [],
   "source": [
    "features = [\"LotArea\", \"LotFrontage\", \"OverallQual\", \"OverallCond\", \"MasVnrArea\", \"1stFlrSF\", \"2ndFlrSF\", \"GarageArea\"]\n",
    "cols = features + [y_col]\n",
    "train_split = 0.7"
   ]
  },
  {
   "cell_type": "code",
   "execution_count": 29,
   "metadata": {},
   "outputs": [
    {
     "name": "stdout",
     "output_type": "stream",
     "text": [
      "Before drop NA: (1460, 9)\n",
      "After drop NA: (1460, 9)\n"
     ]
    },
    {
     "data": {
      "text/html": [
       "<div>\n",
       "<style scoped>\n",
       "    .dataframe tbody tr th:only-of-type {\n",
       "        vertical-align: middle;\n",
       "    }\n",
       "\n",
       "    .dataframe tbody tr th {\n",
       "        vertical-align: top;\n",
       "    }\n",
       "\n",
       "    .dataframe thead th {\n",
       "        text-align: right;\n",
       "    }\n",
       "</style>\n",
       "<table border=\"1\" class=\"dataframe\">\n",
       "  <thead>\n",
       "    <tr style=\"text-align: right;\">\n",
       "      <th></th>\n",
       "      <th>LotArea</th>\n",
       "      <th>LotFrontage</th>\n",
       "      <th>OverallQual</th>\n",
       "      <th>OverallCond</th>\n",
       "      <th>MasVnrArea</th>\n",
       "      <th>1stFlrSF</th>\n",
       "      <th>2ndFlrSF</th>\n",
       "      <th>GarageArea</th>\n",
       "      <th>SalePrice</th>\n",
       "    </tr>\n",
       "  </thead>\n",
       "  <tbody>\n",
       "    <tr>\n",
       "      <th>0</th>\n",
       "      <td>8450</td>\n",
       "      <td>65.0</td>\n",
       "      <td>7</td>\n",
       "      <td>5</td>\n",
       "      <td>196.0</td>\n",
       "      <td>856</td>\n",
       "      <td>854</td>\n",
       "      <td>548</td>\n",
       "      <td>208500</td>\n",
       "    </tr>\n",
       "    <tr>\n",
       "      <th>1</th>\n",
       "      <td>9600</td>\n",
       "      <td>80.0</td>\n",
       "      <td>6</td>\n",
       "      <td>8</td>\n",
       "      <td>0.0</td>\n",
       "      <td>1262</td>\n",
       "      <td>0</td>\n",
       "      <td>460</td>\n",
       "      <td>181500</td>\n",
       "    </tr>\n",
       "  </tbody>\n",
       "</table>\n",
       "</div>"
      ],
      "text/plain": [
       "   LotArea  LotFrontage  OverallQual  OverallCond  MasVnrArea  1stFlrSF  \\\n",
       "0     8450         65.0            7            5       196.0       856   \n",
       "1     9600         80.0            6            8         0.0      1262   \n",
       "\n",
       "   2ndFlrSF  GarageArea  SalePrice  \n",
       "0       854         548     208500  \n",
       "1         0         460     181500  "
      ]
     },
     "execution_count": 29,
     "metadata": {},
     "output_type": "execute_result"
    }
   ],
   "source": [
    "training = train_data.copy(deep=True)[cols]\n",
    "print(f\"Before drop NA: {training.shape}\")\n",
    "training = training.fillna(0)\n",
    "print(f\"After drop NA: {training.shape}\")\n",
    "training.head(2)"
   ]
  },
  {
   "cell_type": "code",
   "execution_count": 30,
   "metadata": {},
   "outputs": [],
   "source": [
    "model, rmse = None, (2 ** 32)"
   ]
  },
  {
   "cell_type": "code",
   "execution_count": 31,
   "metadata": {},
   "outputs": [
    {
     "name": "stdout",
     "output_type": "stream",
     "text": [
      "RMSE: 28386.873645797088\n"
     ]
    }
   ],
   "source": [
    "for i in range(1000):\n",
    "    train, test = random_split_on_data(training, train_split)\n",
    "    train_x, train_y = split_dataset_supervised(train, features, \"SalePrice\")\n",
    "    test_x, test_y = split_dataset_supervised(test, features, \"SalePrice\")\n",
    "\n",
    "    lr_model = LinearRegression().fit(train_x, train_y)\n",
    "\n",
    "    # RMSE\n",
    "    test_rmse = calculate_rmse(lr_model, test_x, test_y)\n",
    "\n",
    "    if test_rmse < rmse:\n",
    "        rmse = test_rmse\n",
    "        model = lr_model\n",
    "\n",
    "print(f\"RMSE: {rmse}\")"
   ]
  },
  {
   "cell_type": "code",
   "execution_count": 25,
   "metadata": {},
   "outputs": [],
   "source": [
    "# save_model(model, \"models/linear_regression_multiple_numerical_features.scikit_model\")\n",
    "save_model(model, \"models/linear_regression_multiple_numerical_features_fillna.scikit_model\")"
   ]
  },
  {
   "cell_type": "code",
   "execution_count": 27,
   "metadata": {},
   "outputs": [],
   "source": [
    "testing = test_data.copy(deep=True)[[id_col] + features]\n",
    "testing = testing.fillna(0)\n",
    "get_submission_file(model, testing, y_col, id_col, features, \"dataset/linear_regression_multiple_numerical_features_fillna.csv\")"
   ]
  },
  {
   "cell_type": "code",
   "execution_count": null,
   "metadata": {},
   "outputs": [],
   "source": []
  }
 ],
 "metadata": {
  "kernelspec": {
   "display_name": "Python 3",
   "language": "python",
   "name": "python3"
  },
  "language_info": {
   "codemirror_mode": {
    "name": "ipython",
    "version": 3
   },
   "file_extension": ".py",
   "mimetype": "text/x-python",
   "name": "python",
   "nbconvert_exporter": "python",
   "pygments_lexer": "ipython3",
   "version": "3.7.9"
  }
 },
 "nbformat": 4,
 "nbformat_minor": 4
}
